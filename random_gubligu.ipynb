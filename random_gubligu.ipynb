{
 "cells": [
  {
   "cell_type": "code",
   "execution_count": 2,
   "metadata": {},
   "outputs": [
    {
     "name": "stderr",
     "output_type": "stream",
     "text": [
      "c:\\Python312\\Lib\\site-packages\\tqdm\\auto.py:21: TqdmWarning: IProgress not found. Please update jupyter and ipywidgets. See https://ipywidgets.readthedocs.io/en/stable/user_install.html\n",
      "  from .autonotebook import tqdm as notebook_tqdm\n"
     ]
    }
   ],
   "source": [
    "import pathlib\n",
    "import textwrap\n",
    "\n",
    "import google.generativeai as genai\n",
    "\n",
    "from IPython.display import display\n",
    "from IPython.display import Markdown\n",
    "\n",
    "\n",
    "def to_markdown(text):\n",
    "  text = text.replace('•', '  *')\n",
    "  return Markdown(textwrap.indent(text, '> ', predicate=lambda _: True))\n"
   ]
  },
  {
   "cell_type": "code",
   "execution_count": 4,
   "metadata": {},
   "outputs": [],
   "source": [
    "from dotenv import load_dotenv\n",
    "import os\n",
    "\n",
    "\n",
    "load_dotenv()\n",
    "\n",
    "genai.configure(api_key=os.environ.get(\"GEMINI_API_KEY\"))"
   ]
  },
  {
   "cell_type": "code",
   "execution_count": 5,
   "metadata": {},
   "outputs": [
    {
     "name": "stdout",
     "output_type": "stream",
     "text": [
      "models/gemini-1.0-pro\n",
      "models/gemini-1.0-pro-001\n",
      "models/gemini-1.0-pro-latest\n",
      "models/gemini-1.0-pro-vision-latest\n",
      "models/gemini-pro\n",
      "models/gemini-pro-vision\n"
     ]
    }
   ],
   "source": [
    "for m in genai.list_models():\n",
    "  if 'generateContent' in m.supported_generation_methods:\n",
    "    print(m.name)\n"
   ]
  },
  {
   "cell_type": "code",
   "execution_count": 6,
   "metadata": {},
   "outputs": [],
   "source": [
    "model = genai.GenerativeModel('gemini-pro')\n"
   ]
  },
  {
   "cell_type": "code",
   "execution_count": 50,
   "metadata": {},
   "outputs": [
    {
     "name": "stdout",
     "output_type": "stream",
     "text": [
      "response:\n",
      "GenerateContentResponse(\n",
      "    done=False,\n",
      "    iterator=<_StreamingResponseIterator>,\n",
      "    result=glm.GenerateContentResponse({'candidates': [{'content': {'parts': [{'text': 'The meaning of life is a deeply personal and philosophical question that has been pondered by'}], 'role': 'model'}, 'finish_reason': 1, 'index': 0, 'safety_ratings': [{'category': 9, 'probability': 1, 'blocked': False}, {'category': 8, 'probability': 1, 'blocked': False}, {'category': 7, 'probability': 1, 'blocked': False}, {'category': 10, 'probability': 1, 'blocked': False}], 'token_count': 0, 'grounding_attributions': []}], 'prompt_feedback': {'safety_ratings': [{'category': 9, 'probability': 1, 'blocked': False}, {'category': 8, 'probability': 1, 'blocked': False}, {'category': 7, 'probability': 1, 'blocked': False}, {'category': 10, 'probability': 1, 'blocked': False}], 'block_reason': 0}}),\n",
      ")\n"
     ]
    }
   ],
   "source": [
    "# %%time\n",
    "response = model.generate_content(\"What is the meaning of life?\", stream=True)\n",
    "print(response)\n",
    "\n",
    "# print(response.prompt_feedback)\n",
    "# to_markdown(response.text)\n"
   ]
  },
  {
   "cell_type": "code",
   "execution_count": 51,
   "metadata": {},
   "outputs": [
    {
     "name": "stdout",
     "output_type": "stream",
     "text": [
      "The meaning of life is a deeply personal and philosophical question that has been pondered by\n",
      "________________________________________________________________________________\n",
      " humans throughout history. There is no one definitive answer that everyone agrees on, but there are many different perspectives and beliefs about what the meaning of life might be.\n",
      "________________________________________________________________________________\n",
      "\n",
      "\n",
      "Some people believe that the meaning of life is to find happiness or fulfillment, while others believe that it is to make a difference in the world or to leave a lasting legacy. Still others believe that the meaning of life is simply to live and experience all that it has to offer.\n",
      "\n",
      "Ultimately, the meaning of life\n",
      "________________________________________________________________________________\n",
      " is whatever you believe it to be. There is no right or wrong answer, and it is up to each individual to decide what is most meaningful to them.\n",
      "\n",
      "Here are some of the most common beliefs about the meaning of life:\n",
      "\n",
      "* **To find happiness or fulfillment:** Many people believe that the meaning of life is to find happiness or fulfillment, whatever that may mean to them. This could involve pursuing personal goals, relationships, or experiences that bring them joy and satisfaction.\n",
      "* **To make a difference in the world:** Others believe that the meaning of life is to make a difference in the world, however big or small.\n",
      "________________________________________________________________________________\n",
      " This could involve volunteering, working for a cause you care about, or simply trying to be a positive force in the lives of others.\n",
      "* **To leave a lasting legacy:** Some people believe that the meaning of life is to leave a lasting legacy, whether it be through their work, their family, or their contributions to society. This could involve creating something that will be remembered long after they are gone, or simply living a life that makes a positive impact on others.\n",
      "* **To live and experience all that life has to offer:** Still others believe that the meaning of life is simply to live and experience all that it has to offer. This could involve traveling, learning new things, trying new experiences, and simply enjoying the beauty and wonder of the world around us.\n",
      "\n",
      "Ultimately, the meaning of life is a personal journey that each individual must discover for themselves. There is no right or wrong answer, and it is up to each of us to decide what is most meaningful to us.\n",
      "________________________________________________________________________________\n"
     ]
    }
   ],
   "source": [
    "for chunk in response:\n",
    "  print(chunk.text)\n",
    "  print(\"_\"*80)\n"
   ]
  },
  {
   "cell_type": "code",
   "execution_count": 52,
   "metadata": {},
   "outputs": [
    {
     "name": "stdout",
     "output_type": "stream",
     "text": [
      "[-0.003216741, -0.013358698, -0.017649598, -0.0091 ... TRIMMED]\n"
     ]
    }
   ],
   "source": [
    "result = genai.embed_content(\n",
    "    model=\"models/embedding-001\",\n",
    "    content=\"What is the meaning of life?\",\n",
    "    task_type=\"retrieval_document\",\n",
    "    title=\"Embedding of single string\")\n",
    "\n",
    "# 1 input > 1 vector output\n",
    "print(str(result['embedding'])[:50], '... TRIMMED]')\n"
   ]
  },
  {
   "cell_type": "code",
   "execution_count": 53,
   "metadata": {},
   "outputs": [
    {
     "name": "stdout",
     "output_type": "stream",
     "text": [
      "[0.0040260437, 0.004124458, -0.014209415, -0.00183 ... TRIMMED ...\n",
      "[-0.004049845, -0.0075574904, -0.0073463684, -0.03 ... TRIMMED ...\n",
      "[0.025310587, -0.0080734305, -0.029902633, 0.01160 ... TRIMMED ...\n"
     ]
    }
   ],
   "source": [
    "result = genai.embed_content(\n",
    "    model=\"models/embedding-001\",\n",
    "    content=[\n",
    "      'What is the meaning of life?',\n",
    "      'How much wood would a woodchuck chuck?',\n",
    "      'How does the brain work?'],\n",
    "    task_type=\"retrieval_document\",\n",
    "    title=\"Embedding of list of strings\")\n",
    "\n",
    "# A list of inputs > A list of vectors output\n",
    "for v in result['embedding']:\n",
    "  print(str(v)[:50], '... TRIMMED ...')\n"
   ]
  }
 ],
 "metadata": {
  "kernelspec": {
   "display_name": "Python 3",
   "language": "python",
   "name": "python3"
  },
  "language_info": {
   "codemirror_mode": {
    "name": "ipython",
    "version": 3
   },
   "file_extension": ".py",
   "mimetype": "text/x-python",
   "name": "python",
   "nbconvert_exporter": "python",
   "pygments_lexer": "ipython3",
   "version": "3.12.2"
  }
 },
 "nbformat": 4,
 "nbformat_minor": 2
}
