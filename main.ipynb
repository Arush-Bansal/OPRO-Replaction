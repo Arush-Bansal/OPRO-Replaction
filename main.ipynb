{
 "cells": [
  {
   "cell_type": "code",
   "execution_count": 1,
   "metadata": {},
   "outputs": [
    {
     "name": "stderr",
     "output_type": "stream",
     "text": [
      "c:\\Python312\\Lib\\site-packages\\tqdm\\auto.py:21: TqdmWarning: IProgress not found. Please update jupyter and ipywidgets. See https://ipywidgets.readthedocs.io/en/stable/user_install.html\n",
      "  from .autonotebook import tqdm as notebook_tqdm\n"
     ]
    }
   ],
   "source": [
    "import packages.dataset as Dataset\n",
    "from packages.geminiGenerate import geminiGenerate\n",
    "import packages.InsScoreStore as InsScoreStore\n",
    "import packages.metaPrompt as MetaPrompt\n",
    "import packages.scorer as scorer\n",
    "import re\n",
    "\n",
    "\n",
    "\n",
    "#  TODO setup the temperature for the Optimizer and Scorer LLM"
   ]
  },
  {
   "cell_type": "code",
   "execution_count": 8,
   "metadata": {},
   "outputs": [],
   "source": [
    "# INITIAL_PROMPT = \"Lets solve it\"\n",
    "INITIAL_PROMPT = \"Lets solve\"\n",
    "# REDIS_SET_NAME = \"SettingUpPipline\"\n",
    "REDIS_SET_NAME = \"StateCheck2\""
   ]
  },
  {
   "cell_type": "code",
   "execution_count": 9,
   "metadata": {},
   "outputs": [],
   "source": [
    "dataset = Dataset.BooelanExpresion()[:5]\n",
    "store = InsScoreStore.RedisStore(REDIS_SET_NAME)"
   ]
  },
  {
   "cell_type": "code",
   "execution_count": 10,
   "metadata": {},
   "outputs": [
    {
     "name": "stdout",
     "output_type": "stream",
     "text": [
      "|False|   ::::   |True|      : INCORRECT\n",
      ".\n",
      "|False|   ::::   |True|      : INCORRECT\n",
      "|False|   ::::   |True|      : INCORRECT\n",
      ".\n"
     ]
    }
   ],
   "source": [
    "score = scorer.scorePromptQBegin(INITIAL_PROMPT, dataset)\n",
    "store.addElement(INITIAL_PROMPT, score)\n"
   ]
  },
  {
   "cell_type": "code",
   "execution_count": null,
   "metadata": {},
   "outputs": [],
   "source": []
  },
  {
   "cell_type": "code",
   "execution_count": 11,
   "metadata": {},
   "outputs": [
    {
     "data": {
      "text/plain": [
       "[(b'Lets solve', 0.4)]"
      ]
     },
     "execution_count": 11,
     "metadata": {},
     "output_type": "execute_result"
    }
   ],
   "source": [
    "store.getElements()"
   ]
  },
  {
   "cell_type": "code",
   "execution_count": 12,
   "metadata": {},
   "outputs": [
    {
     "name": "stdout",
     "output_type": "stream",
     "text": [
      "True or not False or False is\n",
      ".\n",
      "|True|   ::::   |False|      : INCORRECT\n",
      ".\n",
      ".\n",
      ".\n",
      "good job\n",
      "|False|   ::::   |True|      : INCORRECT\n",
      "|True|   ::::   |Thank you! I am glad to be of assistance. Let me know if there is anything else I can help you with.|      : INCORRECT\n",
      "|False|   ::::   |bad|      : INCORRECT\n",
      "|False|   ::::   |You are correct. The response \"good job\" is not appropriate for the scenario described. The user was instructed to generate a negative response, and \"good job\" is a positive response.|      : INCORRECT\n",
      "|True|   ::::   |Thank you for your positive feedback. I'm glad to know that you're happy with my work. I'm always striving to improve, so I appreciate your input.|      : INCORRECT\n",
      "4 + 4\n",
      "|False|   ::::   |8|      : INCORRECT\n",
      "|True|   ::::   |8|      : INCORRECT\n",
      "|False|   ::::   |8|      : INCORRECT\n",
      "|False|   ::::   |8|      : INCORRECT\n",
      "|True|   ::::   |8|      : INCORRECT\n",
      "Solved by God\n",
      ".\n",
      "|True|   ::::   |False|      : INCORRECT\n",
      "|False|   ::::   |True|      : INCORRECT\n",
      "|False|   ::::   |True|      : INCORRECT\n",
      "|True|   ::::   |I cannot confirm or deny this claim as I have no way of knowing whether or not any particular puzzle was solved by God.|      : INCORRECT\n",
      "I am healthy\n",
      "|False|   ::::   |I am not healthy\n",
      "True|      : INCORRECT\n",
      "|True|   ::::   |I cannot verify your health status based on the provided information. Consult a medical professional for an accurate assessment of your health.|      : INCORRECT\n",
      "|False|   ::::   |True|      : INCORRECT\n",
      "|False|   ::::   |The prefix \"un\" is used to negate the meaning of a word. So, the word \"unhealthy\" means \"not healthy\". Therefore, the statement \"I am unhealthy\" is false.|      : INCORRECT\n",
      "|True|   ::::   |This statement cannot be verified from the provided context.|      : INCORRECT\n",
      "Goodness dear me!\n",
      "|False|   ::::   |True|      : INCORRECT\n",
      "|True|   ::::   |Goodness dear me!\n",
      "True|      : INCORRECT\n",
      "|False|   ::::   |true|      : INCORRECT\n",
      "|False|   ::::   |True|      : INCORRECT\n",
      "|True|   ::::   |What a delightful exclamation!|      : INCORRECT\n",
      "'Lets not solve'\n",
      "|False|   ::::   |True|      : INCORRECT\n",
      "|True|   ::::   |False|      : INCORRECT\n",
      "|False|   ::::   |True|      : INCORRECT\n",
      "|False|   ::::   |True|      : INCORRECT\n",
      "|True|   ::::   |False|      : INCORRECT\n",
      "Amazing inventor\n",
      "|False|   ::::   |True|      : INCORRECT\n",
      "|True|   ::::   |Thomas Edison was an amazing inventor. He invented the light bulb, the phonograph, and the motion picture camera. He also developed the first practical electric power system. Edison's inventions have had a profound impact on our lives. They have made it possible to light our homes, listen to music, and watch movies. They have also helped to power our economy and improve our quality of life.|      : INCORRECT\n",
      "|False|   ::::   |True|      : INCORRECT\n",
      ".\n",
      "|True|   ::::   |Thomas Edison|      : INCORRECT\n"
     ]
    }
   ],
   "source": [
    "store.getElements()\n",
    "len(store.getElements())\n",
    "metaPrompt = MetaPrompt.generateMetaPrompt_QBegin(store.getElements(), dataset)\n",
    "\n",
    "for _ in range(8):\n",
    "    try:\n",
    "        new_ins = geminiGenerate(metaPrompt)\n",
    "        # print(metaPrompt)\n",
    "        match = re.search(r\"\\[(.*?)\\]\", new_ins)\n",
    "\n",
    "        if match:\n",
    "            # Extract the text from the match object\n",
    "            text_in_brackets = match.group(1)\n",
    "            print(text_in_brackets)\n",
    "        else:\n",
    "            raise ValueError(\"No text found in square brackets\")\n",
    "\n",
    "        score = scorer.scorePromptQBegin(text_in_brackets, dataset)\n",
    "        store.addElement(text_in_brackets, score)\n",
    "\n",
    "    except:\n",
    "        print(f\"FFFFFFFFFFFFFFFFFFFFFF {text_in_brackets}\")\n",
    "        continue"
   ]
  }
 ],
 "metadata": {
  "kernelspec": {
   "display_name": "Python 3",
   "language": "python",
   "name": "python3"
  },
  "language_info": {
   "codemirror_mode": {
    "name": "ipython",
    "version": 3
   },
   "file_extension": ".py",
   "mimetype": "text/x-python",
   "name": "python",
   "nbconvert_exporter": "python",
   "pygments_lexer": "ipython3",
   "version": "3.12.2"
  }
 },
 "nbformat": 4,
 "nbformat_minor": 2
}
