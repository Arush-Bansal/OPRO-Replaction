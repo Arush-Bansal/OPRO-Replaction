{
 "cells": [
  {
   "cell_type": "code",
   "execution_count": 73,
   "metadata": {},
   "outputs": [],
   "source": [
    "from packages.geminiGenerate import geminiGenerate\n",
    "import packages.InsScoreStore as InsScoreStore\n",
    "import re\n",
    "\n",
    "\n",
    "\n",
    "#  TODO setup the temperature for the Optimizer and Scorer LLM"
   ]
  },
  {
   "cell_type": "code",
   "execution_count": 74,
   "metadata": {},
   "outputs": [],
   "source": [
    "# INITIAL_PROMPT = \"Lets solve it\"\n",
    "EQUATION = \"7x3 + 3x2 + x - 7 = 0\"\n",
    "REDIS_SET_NAME = \"Non-Linear-test-3\"\n",
    "INITIAL_GUESS = 4\n",
    "# REDIS_SET_NAME = \"SettingUpPipline\""
   ]
  },
  {
   "cell_type": "code",
   "execution_count": 75,
   "metadata": {},
   "outputs": [],
   "source": [
    "def scorerNonLinear(x):\n",
    "    return x + 3*(x**2) + 7*(x**3) - 7"
   ]
  },
  {
   "cell_type": "code",
   "execution_count": 62,
   "metadata": {},
   "outputs": [],
   "source": [
    "store = InsScoreStore.RedisStore(REDIS_SET_NAME)\n"
   ]
  },
  {
   "cell_type": "code",
   "execution_count": 52,
   "metadata": {},
   "outputs": [],
   "source": [
    "score = scorerNonLinear(INITIAL_GUESS)\n",
    "store.addElement(str(INITIAL_GUESS), score)"
   ]
  },
  {
   "cell_type": "code",
   "execution_count": 58,
   "metadata": {},
   "outputs": [
    {
     "name": "stdout",
     "output_type": "stream",
     "text": [
      "Guess : 4   Error : 493.0\n"
     ]
    }
   ],
   "source": [
    "all_elements = store.getElements()\n",
    "all_elements_list = [{\"Guess\": int(ins), \"closeness\" : score} for ins, score in all_elements]\n",
    "all_elements_string = \"\\n\".join([f\"Guess : {x[\"Guess\"]}   Error : {x[\"closeness\"]}\" for x in all_elements_list])\n",
    "print(all_elements_string)\n"
   ]
  },
  {
   "cell_type": "code",
   "execution_count": 65,
   "metadata": {},
   "outputs": [],
   "source": [
    "INSTRUCTOIN = \"The equation we are trying to solve is 'the equation we are trying to solve is x + 3x2 + 7x3 = 7. You are given some of the previous guesses and how off were those guesses. Based on those tries you need to tell what should be the next best guess.\"\n",
    "CALL_TO_ACTION = \"Based on the above guesses, give your next educated guess. make sure the generate your guess enclosed in square brackents and don't generate anything else. Make sure that your goal is to make the error as close to 0 as possible\"\n",
    "\n",
    "# prompt = f\"{INSTRUCTOIN}\\n\\n{all_elements_string}\\n\\n{CALL_TO_ACTION}\"\n",
    "\n"
   ]
  },
  {
   "cell_type": "code",
   "execution_count": 70,
   "metadata": {},
   "outputs": [
    {
     "name": "stdout",
     "output_type": "stream",
     "text": [
      "Guess : -0.3   Error : -7.219\n",
      "Guess : -0.205   Error : -7.139230875\n",
      "Guess : -0.2052   Error : -7.139361432256\n",
      "Guess : -0.2049   Error : -7.139165635543\n",
      "Guess : -0.2048   Error : -7.139100422144\n",
      "Guess : -0.2047   Error : -7.139035234761\n",
      "Guess : -0.2046   Error : -7.138970073352\n",
      "Guess : -0.2045   Error : -7.138904937875\n",
      "Guess : -0.2044   Error : -7.138839828288\n",
      "Guess : -0.2043   Error : -7.138774744549\n",
      "Guess : -0.2042   Error : -7.138709686616\n",
      "Guess : -0.2041   Error : -7.138644654447\n",
      "Guess : -0.204   Error : -7.138579648\n",
      "Guess : -0.2039   Error : -7.138514667233\n",
      "Guess : -0.2038   Error : -7.138449712104\n",
      "Guess : -0.2037   Error : -7.138384782571\n",
      "Guess : -0.2036   Error : -7.138319878592\n",
      "Guess : -0.2035   Error : -7.138255000125\n",
      "Guess : -0.2034   Error : -7.138190147128\n",
      "Guess : -0.2033   Error : -7.138125319559\n",
      "Guess : -0.2032   Error : -7.138060517376\n",
      "Guess : -0.2031   Error : -7.137995740537\n",
      "Guess : -0.203   Error : -7.137930989\n",
      "Guess : -0.2029   Error : -7.137866262723\n",
      "Guess : -0.2028   Error : -7.137801561664\n",
      "Guess : -0.2027   Error : -7.137736885781\n",
      "Guess : -0.2026   Error : -7.137672235032\n",
      "Guess : -0.2025   Error : -7.137607609375\n",
      "Guess : -0.2024   Error : -7.137543008768\n",
      "Guess : -0.2023   Error : -7.137478433169\n",
      "Guess : -0.2022   Error : -7.137413882536\n",
      "Guess : -0.2021   Error : -7.137349356827\n",
      "Guess : -0.202   Error : -7.137284856\n",
      "Guess : -0.2019   Error : -7.137220380013\n",
      "Guess : -0.2018   Error : -7.137155928824\n",
      "Guess : -0.20183   Error : -7.137175261579409\n",
      "Guess : -0.20179   Error : -7.137149485067373\n",
      "Guess : -0.201829   Error : -7.137174617118321\n",
      "Guess : -0.20178   Error : -7.137143041558264\n",
      "Guess : -0.201774   Error : -7.13713917557159\n",
      "Guess : -0.201773   Error : -7.137138531249138\n",
      "Guess : -0.201772   Error : -7.137137886929161\n",
      "Guess : -0.201771   Error : -7.137137242611659\n",
      "Guess : -0.20177   Error : -7.137136598296631\n",
      "Guess : -0.201769   Error : -7.137135953984077\n",
      "Guess : -0.201768   Error : -7.137135309673998\n",
      "Guess : -0.201767   Error : -7.137134665366393\n",
      "Guess : -0.201766   Error : -7.137134021061262\n",
      "Guess : -0.201765   Error : -7.137133376758605\n",
      "Guess : -0.201764   Error : -7.137132732458422\n",
      "Guess : -0.201763   Error : -7.137132088160714\n",
      "Guess : -0.201762   Error : -7.137131443865479\n",
      "Guess : -0.201761   Error : -7.137130799572718\n",
      "Guess : -0.20176   Error : -7.137130155282432\n",
      "Guess : -0.201759   Error : -7.137129510994619\n",
      "Guess : -0.201758   Error : -7.137128866709281\n",
      "Guess : -0.201757   Error : -7.137128222426416\n",
      "Guess : -0.201756   Error : -7.137127578146025\n",
      "Guess : -0.201755   Error : -7.137126933868107\n",
      "Guess : -0.201754   Error : -7.137126289592663\n",
      "Guess : -0.201753   Error : -7.137125645319694\n",
      "Guess : -0.201752   Error : -7.137125001049197\n",
      "Guess : -0.201751   Error : -7.137124356781174\n",
      "Guess : -0.201749   Error : -7.137123068252549\n",
      "Guess : -0.201748   Error : -7.137122423991947\n",
      "Guess : -0.201747   Error : -7.1371217797338184\n",
      "Guess : -0.201746   Error : -7.1371211354781625\n",
      "Guess : -0.201745   Error : -7.13712049122498\n",
      "Guess : -0.201744   Error : -7.137119846974271\n",
      "Guess : -0.201743   Error : -7.137119202726036\n",
      "Guess : -0.201742   Error : -7.137118558480274\n",
      "Guess : -0.201741   Error : -7.137117914236984\n",
      "Guess : -0.20174   Error : -7.137117269996168\n",
      "Guess : -0.201739   Error : -7.137116625757825\n",
      "Guess : -0.201738   Error : -7.137115981521955\n",
      "Guess : -0.201737   Error : -7.137115337288558\n",
      "Guess : -0.201736   Error : -7.137114693057634\n",
      "Guess : -0.201735   Error : -7.137114048829183\n",
      "Guess : -0.201734   Error : -7.1371134046032045\n",
      "Guess : -0.201733   Error : -7.137112760379699\n",
      "Guess : -0.201732   Error : -7.137112116158666\n",
      "Guess : -0.201731   Error : -7.1371114719401065\n",
      "Guess : -0.20173   Error : -7.137110827724019\n",
      "Guess : -0.201729   Error : -7.137110183510404\n",
      "Guess : -0.201728   Error : -7.137109539299263\n",
      "Guess : -0.201727   Error : -7.137108895090593\n",
      "Guess : -0.201726   Error : -7.137108250884396\n",
      "Guess : -0.201725   Error : -7.137107606680672\n",
      "Guess : -0.201724   Error : -7.13710696247942\n",
      "Guess : -0.201723   Error : -7.13710631828064\n",
      "Guess : -0.201722   Error : -7.137105674084333\n",
      "Guess : -0.201721   Error : -7.137105029890498\n",
      "Guess : -0.201720968   Error : -7.137105009276336\n",
      "Guess : -0.201720085   Error : -7.137104440455306\n",
      "Guess : -0.201719877   Error : -7.137104306463769\n",
      "Guess : -0.201719876   Error : -7.137104305819579\n",
      "Guess : -0.201719876   Error : -7.137104305819579\n",
      "Guess : -0.201719875   Error : -7.13710430517539\n",
      "Guess : -0.201719874   Error : -7.137104304531199\n",
      "Guess : -0.201719873   Error : -7.13710430388701\n"
     ]
    }
   ],
   "source": [
    "for _ in range(100):\n",
    "    all_elements = store.getElements()\n",
    "    all_elements.sort(key=lambda x: x[0], reverse=True)\n",
    "    all_elements_list = [{\"Guess\": float(ins), \"closeness\" : score} for ins, score in all_elements]\n",
    "    all_elements_string = \"\\n\".join([f\"Guess : {x[\"Guess\"]}   Error : {x[\"closeness\"]}\" for x in all_elements_list])\n",
    "    prompt = f\"{INSTRUCTOIN}\\n\\n{all_elements_string}\\n\\n{CALL_TO_ACTION}\"\n",
    "    new_guess = float(geminiGenerate(prompt)[1:-1])\n",
    "    score = scorerNonLinear(new_guess)\n",
    "    store.addElement(str(new_guess), score)\n",
    "    print(f\"Guess : {new_guess}   Error : {score}\")\n",
    "    \n",
    "\n",
    "# score = scorerNonLinear()\n",
    "# store.addElement(str(INITIAL_GUESS), score)"
   ]
  },
  {
   "cell_type": "code",
   "execution_count": null,
   "metadata": {},
   "outputs": [],
   "source": []
  },
  {
   "cell_type": "code",
   "execution_count": 71,
   "metadata": {},
   "outputs": [
    {
     "name": "stdout",
     "output_type": "stream",
     "text": [
      "The equation we are trying to solve is 'the equation we are trying to solve is x + 3x2 + 7x3 = 7. You are given some of the previous guesses and how off were those guesses. Based on those tries you need to tell what should be the next best guess.\n",
      "\n",
      "Guess : 1.3   Error : 14.749000000000002\n",
      "Guess : 1.0   Error : 4.0\n",
      "Guess : 0.75   Error : -1.609375\n",
      "Guess : 0.625   Error : -3.494140625\n",
      "Guess : 0.2   Error : -6.624\n",
      "Guess : 0.0   Error : -7.0\n",
      "Guess : -1.71   Error : -34.939176999999994\n",
      "Guess : -0.2036   Error : -7.138319878592\n",
      "Guess : -0.201748   Error : -7.137122423991947\n",
      "Guess : -0.201728   Error : -7.137109539299263\n",
      "Guess : -0.201727   Error : -7.137108895090593\n",
      "Guess : -0.201726   Error : -7.137108250884396\n",
      "Guess : -0.201725   Error : -7.137107606680672\n",
      "Guess : -0.201724   Error : -7.13710696247942\n",
      "Guess : -0.201723   Error : -7.13710631828064\n",
      "Guess : -0.201722   Error : -7.137105674084333\n",
      "Guess : -0.201721   Error : -7.137105029890498\n",
      "Guess : -0.201720968   Error : -7.137105009276336\n",
      "Guess : -0.201720085   Error : -7.137104440455306\n",
      "Guess : -0.201719877   Error : -7.137104306463769\n",
      "Guess : -0.201719876   Error : -7.137104305819579\n",
      "Guess : -0.201719875   Error : -7.13710430517539\n",
      "Guess : -0.201719874   Error : -7.137104304531199\n",
      "\n",
      "Based on the above guesses, give your next educated guess. make sure the generate your guess enclosed in square brackents and don't generate anything else. Make sure that your goal is to make the error as close to 0 as possible\n"
     ]
    }
   ],
   "source": [
    "print(prompt)"
   ]
  },
  {
   "cell_type": "code",
   "execution_count": 48,
   "metadata": {},
   "outputs": [
    {
     "name": "stdout",
     "output_type": "stream",
     "text": [
      "2.5\n",
      "123.625\n",
      "[(b'3.35', 293.185125), (b'2.5', 123.625), (b'4', 4.0), (b'0.987', 3.640040620999999)]\n",
      "[{'Guess': 3.35, 'closeness': 293.185125}, {'Guess': 2.5, 'closeness': 123.625}, {'Guess': 4.0, 'closeness': 4.0}, {'Guess': 0.987, 'closeness': 3.640040620999999}]\n",
      "Guess : 3.35   Error : 293.185125\n",
      "Guess : 2.5   Error : 123.625\n",
      "Guess : 4.0   Error : 4.0\n",
      "Guess : 0.987   Error : 3.640040620999999\n",
      "The equation we are trying to solve is 'the equation we are trying to solve is x + 3x2 + 7x3 = 7. You are given some of the previous guesses and how off were those guesses. Based on those tries you need to tell what should be the next best guess.\n",
      "\n",
      "Guess : 3.35   Error : 293.185125\n",
      "Guess : 2.5   Error : 123.625\n",
      "Guess : 4.0   Error : 4.0\n",
      "Guess : 0.987   Error : 3.640040620999999\n",
      "\n",
      "Based on the above guesses, give your next educated guess. make sure the generate your guess enclosed in square brackents and don't generate anything else\n"
     ]
    }
   ],
   "source": [
    "print(new_guess)\n",
    "print(score)\n",
    "print(all_elements)\n",
    "print(all_elements_list)\n",
    "print(all_elements_string)\n",
    "print(prompt)"
   ]
  }
 ],
 "metadata": {
  "kernelspec": {
   "display_name": "Python 3",
   "language": "python",
   "name": "python3"
  },
  "language_info": {
   "codemirror_mode": {
    "name": "ipython",
    "version": 3
   },
   "file_extension": ".py",
   "mimetype": "text/x-python",
   "name": "python",
   "nbconvert_exporter": "python",
   "pygments_lexer": "ipython3",
   "version": "3.12.2"
  }
 },
 "nbformat": 4,
 "nbformat_minor": 2
}
